{
 "cells": [
  {
   "cell_type": "markdown",
   "id": "5d20e5bf",
   "metadata": {},
   "source": [
    "# Model Inference"
   ]
  },
  {
   "cell_type": "markdown",
   "id": "587bbe28",
   "metadata": {},
   "source": [
    "## Import Libraries"
   ]
  },
  {
   "cell_type": "code",
   "execution_count": 1,
   "id": "a0a91efd",
   "metadata": {},
   "outputs": [],
   "source": [
    "import pickle\n",
    "import pandas as pd"
   ]
  },
  {
   "cell_type": "markdown",
   "id": "c78daaed",
   "metadata": {},
   "source": [
    "## Import Model"
   ]
  },
  {
   "cell_type": "markdown",
   "id": "5a756f99",
   "metadata": {},
   "source": [
    "mengimport model untuk memprediksi data ineference"
   ]
  },
  {
   "cell_type": "code",
   "execution_count": 2,
   "id": "87dac705",
   "metadata": {},
   "outputs": [],
   "source": [
    "with open('model_SVM.pkl', 'rb') as file:\n",
    "  SVM = pickle.load(file)"
   ]
  },
  {
   "cell_type": "markdown",
   "id": "ad7e8b5c",
   "metadata": {},
   "source": [
    "## Data Inference"
   ]
  },
  {
   "cell_type": "markdown",
   "id": "a66d232d",
   "metadata": {},
   "source": [
    "### Data 1"
   ]
  },
  {
   "cell_type": "code",
   "execution_count": 3,
   "id": "e566a8bc",
   "metadata": {},
   "outputs": [
    {
     "data": {
      "text/html": [
       "<div>\n",
       "<style scoped>\n",
       "    .dataframe tbody tr th:only-of-type {\n",
       "        vertical-align: middle;\n",
       "    }\n",
       "\n",
       "    .dataframe tbody tr th {\n",
       "        vertical-align: top;\n",
       "    }\n",
       "\n",
       "    .dataframe thead th {\n",
       "        text-align: right;\n",
       "    }\n",
       "</style>\n",
       "<table border=\"1\" class=\"dataframe\">\n",
       "  <thead>\n",
       "    <tr style=\"text-align: right;\">\n",
       "      <th></th>\n",
       "      <th>Age</th>\n",
       "      <th>Gender</th>\n",
       "      <th>Smoking</th>\n",
       "      <th>Hx Smoking</th>\n",
       "      <th>Hx Radiothreapy</th>\n",
       "      <th>Thyroid Function</th>\n",
       "      <th>Physical Examination</th>\n",
       "      <th>Adenopathy</th>\n",
       "      <th>Pathology</th>\n",
       "      <th>Focality</th>\n",
       "      <th>Risk</th>\n",
       "      <th>T</th>\n",
       "      <th>N</th>\n",
       "      <th>M</th>\n",
       "      <th>Stage</th>\n",
       "      <th>Response</th>\n",
       "    </tr>\n",
       "  </thead>\n",
       "  <tbody>\n",
       "    <tr>\n",
       "      <th>0</th>\n",
       "      <td>28</td>\n",
       "      <td>M</td>\n",
       "      <td>Yes</td>\n",
       "      <td>Yes</td>\n",
       "      <td>No</td>\n",
       "      <td>Euthyroid</td>\n",
       "      <td>Single nodular goiter-left/right</td>\n",
       "      <td>Right</td>\n",
       "      <td>Papillary</td>\n",
       "      <td>Uni-Focal</td>\n",
       "      <td>Low</td>\n",
       "      <td>T1b</td>\n",
       "      <td>N1a</td>\n",
       "      <td>M0</td>\n",
       "      <td>II</td>\n",
       "      <td>Indeterminate</td>\n",
       "    </tr>\n",
       "  </tbody>\n",
       "</table>\n",
       "</div>"
      ],
      "text/plain": [
       "   Age Gender Smoking Hx Smoking Hx Radiothreapy Thyroid Function  \\\n",
       "0   28      M     Yes        Yes              No        Euthyroid   \n",
       "\n",
       "               Physical Examination Adenopathy  Pathology   Focality Risk  \\\n",
       "0  Single nodular goiter-left/right      Right  Papillary  Uni-Focal  Low   \n",
       "\n",
       "     T    N   M Stage       Response  \n",
       "0  T1b  N1a  M0    II  Indeterminate  "
      ]
     },
     "metadata": {},
     "output_type": "display_data"
    }
   ],
   "source": [
    "#create new data\n",
    "\n",
    "data_inf1 = {\n",
    "    'Age' : 28,\n",
    "    'Gender' : 'M',\n",
    "    'Smoking' : 'Yes',\n",
    "    'Hx Smoking' : 'Yes',\n",
    "    'Hx Radiothreapy': 'No',\n",
    "    'Thyroid Function' : 'Euthyroid',\n",
    "    'Physical Examination' : 'Single nodular goiter-left/right',\n",
    "    'Adenopathy' : 'Right',\n",
    "    'Pathology' : 'Papillary',\n",
    "    'Focality' : 'Uni-Focal',\n",
    "    'Risk' : 'Low',\n",
    "    'T' : 'T1b',\n",
    "    'N' : 'N1a',\n",
    "    'M' : 'M0',\n",
    "    'Stage' : 'II',\n",
    "    'Response' : 'Indeterminate',\n",
    "}\n",
    "data_inf1 = pd.DataFrame([data_inf1])\n",
    "\n",
    "display(data_inf1)"
   ]
  },
  {
   "cell_type": "markdown",
   "id": "d912d5f8",
   "metadata": {},
   "source": [
    "### Data 2"
   ]
  },
  {
   "cell_type": "code",
   "execution_count": 4,
   "id": "99ec4203",
   "metadata": {},
   "outputs": [
    {
     "data": {
      "text/html": [
       "<div>\n",
       "<style scoped>\n",
       "    .dataframe tbody tr th:only-of-type {\n",
       "        vertical-align: middle;\n",
       "    }\n",
       "\n",
       "    .dataframe tbody tr th {\n",
       "        vertical-align: top;\n",
       "    }\n",
       "\n",
       "    .dataframe thead th {\n",
       "        text-align: right;\n",
       "    }\n",
       "</style>\n",
       "<table border=\"1\" class=\"dataframe\">\n",
       "  <thead>\n",
       "    <tr style=\"text-align: right;\">\n",
       "      <th></th>\n",
       "      <th>Age</th>\n",
       "      <th>Gender</th>\n",
       "      <th>Smoking</th>\n",
       "      <th>Hx Smoking</th>\n",
       "      <th>Hx Radiothreapy</th>\n",
       "      <th>Thyroid Function</th>\n",
       "      <th>Physical Examination</th>\n",
       "      <th>Adenopathy</th>\n",
       "      <th>Pathology</th>\n",
       "      <th>Focality</th>\n",
       "      <th>Risk</th>\n",
       "      <th>T</th>\n",
       "      <th>N</th>\n",
       "      <th>M</th>\n",
       "      <th>Stage</th>\n",
       "      <th>Response</th>\n",
       "    </tr>\n",
       "  </thead>\n",
       "  <tbody>\n",
       "    <tr>\n",
       "      <th>0</th>\n",
       "      <td>5</td>\n",
       "      <td>F</td>\n",
       "      <td>Yes</td>\n",
       "      <td>Yes</td>\n",
       "      <td>No</td>\n",
       "      <td>Euthyroid</td>\n",
       "      <td>Single nodular goiter-left/right</td>\n",
       "      <td>Right</td>\n",
       "      <td>Papillary</td>\n",
       "      <td>Uni-Focal</td>\n",
       "      <td>Low</td>\n",
       "      <td>T1a</td>\n",
       "      <td>N1a</td>\n",
       "      <td>M0</td>\n",
       "      <td>I</td>\n",
       "      <td>Indeterminate</td>\n",
       "    </tr>\n",
       "  </tbody>\n",
       "</table>\n",
       "</div>"
      ],
      "text/plain": [
       "   Age Gender Smoking Hx Smoking Hx Radiothreapy Thyroid Function  \\\n",
       "0    5      F     Yes        Yes              No        Euthyroid   \n",
       "\n",
       "               Physical Examination Adenopathy  Pathology   Focality Risk  \\\n",
       "0  Single nodular goiter-left/right      Right  Papillary  Uni-Focal  Low   \n",
       "\n",
       "     T    N   M Stage       Response  \n",
       "0  T1a  N1a  M0     I  Indeterminate  "
      ]
     },
     "metadata": {},
     "output_type": "display_data"
    }
   ],
   "source": [
    "#create new data\n",
    "\n",
    "data_inf2 = {\n",
    "    'Age' : 5,\n",
    "    'Gender' : 'F',\n",
    "    'Smoking' : 'Yes',\n",
    "    'Hx Smoking' : 'Yes',\n",
    "    'Hx Radiothreapy': 'No',\n",
    "    'Thyroid Function' : 'Euthyroid',\n",
    "    'Physical Examination' : 'Single nodular goiter-left/right',\n",
    "    'Adenopathy' : 'Right',\n",
    "    'Pathology' : 'Papillary',\n",
    "    'Focality' : 'Uni-Focal',\n",
    "    'Risk' : 'Low',\n",
    "    'T' : 'T1a',\n",
    "    'N' : 'N1a',\n",
    "    'M' : 'M0',\n",
    "    'Stage' : 'I',\n",
    "    'Response' : 'Indeterminate',\n",
    "}\n",
    "data_inf2 = pd.DataFrame([data_inf2])\n",
    "\n",
    "display(data_inf2)"
   ]
  },
  {
   "cell_type": "markdown",
   "id": "f314dfb8",
   "metadata": {},
   "source": [
    "### Data 3"
   ]
  },
  {
   "cell_type": "code",
   "execution_count": 5,
   "id": "00e780fe",
   "metadata": {},
   "outputs": [
    {
     "data": {
      "text/html": [
       "<div>\n",
       "<style scoped>\n",
       "    .dataframe tbody tr th:only-of-type {\n",
       "        vertical-align: middle;\n",
       "    }\n",
       "\n",
       "    .dataframe tbody tr th {\n",
       "        vertical-align: top;\n",
       "    }\n",
       "\n",
       "    .dataframe thead th {\n",
       "        text-align: right;\n",
       "    }\n",
       "</style>\n",
       "<table border=\"1\" class=\"dataframe\">\n",
       "  <thead>\n",
       "    <tr style=\"text-align: right;\">\n",
       "      <th></th>\n",
       "      <th>Age</th>\n",
       "      <th>Gender</th>\n",
       "      <th>Smoking</th>\n",
       "      <th>Hx Smoking</th>\n",
       "      <th>Hx Radiothreapy</th>\n",
       "      <th>Thyroid Function</th>\n",
       "      <th>Physical Examination</th>\n",
       "      <th>Adenopathy</th>\n",
       "      <th>Pathology</th>\n",
       "      <th>Focality</th>\n",
       "      <th>Risk</th>\n",
       "      <th>T</th>\n",
       "      <th>N</th>\n",
       "      <th>M</th>\n",
       "      <th>Stage</th>\n",
       "      <th>Response</th>\n",
       "    </tr>\n",
       "  </thead>\n",
       "  <tbody>\n",
       "    <tr>\n",
       "      <th>0</th>\n",
       "      <td>72</td>\n",
       "      <td>M</td>\n",
       "      <td>Yes</td>\n",
       "      <td>Yes</td>\n",
       "      <td>Yes</td>\n",
       "      <td>Euthyroid</td>\n",
       "      <td>Single nodular goiter-left/right</td>\n",
       "      <td>Right</td>\n",
       "      <td>Papillary</td>\n",
       "      <td>Uni-Focal</td>\n",
       "      <td>High</td>\n",
       "      <td>T4b</td>\n",
       "      <td>N1b</td>\n",
       "      <td>M1</td>\n",
       "      <td>IVB</td>\n",
       "      <td>Biochemical Incomplete</td>\n",
       "    </tr>\n",
       "  </tbody>\n",
       "</table>\n",
       "</div>"
      ],
      "text/plain": [
       "   Age Gender Smoking Hx Smoking Hx Radiothreapy Thyroid Function  \\\n",
       "0   72      M     Yes        Yes             Yes        Euthyroid   \n",
       "\n",
       "               Physical Examination Adenopathy  Pathology   Focality  Risk  \\\n",
       "0  Single nodular goiter-left/right      Right  Papillary  Uni-Focal  High   \n",
       "\n",
       "     T    N   M Stage                Response  \n",
       "0  T4b  N1b  M1   IVB  Biochemical Incomplete  "
      ]
     },
     "metadata": {},
     "output_type": "display_data"
    }
   ],
   "source": [
    "#create new data\n",
    "\n",
    "data_inf3 = {\n",
    "    'Age' : 72,\n",
    "    'Gender' : 'M',\n",
    "    'Smoking' : 'Yes',\n",
    "    'Hx Smoking' : 'Yes',\n",
    "    'Hx Radiothreapy': 'Yes',\n",
    "    'Thyroid Function' : 'Euthyroid',\n",
    "    'Physical Examination' : 'Single nodular goiter-left/right',\n",
    "    'Adenopathy' : 'Right',\n",
    "    'Pathology' : 'Papillary',\n",
    "    'Focality' : 'Uni-Focal',\n",
    "    'Risk' : 'High',\n",
    "    'T' : 'T4b',\n",
    "    'N' : 'N1b',\n",
    "    'M' : 'M1',\n",
    "    'Stage' : 'IVB',\n",
    "    'Response' : 'Biochemical Incomplete',\n",
    "}\n",
    "data_inf3 = pd.DataFrame([data_inf3])\n",
    "\n",
    "display(data_inf3)"
   ]
  },
  {
   "cell_type": "markdown",
   "id": "6c2facb9",
   "metadata": {},
   "source": [
    "## Model Predict"
   ]
  },
  {
   "cell_type": "code",
   "execution_count": 6,
   "id": "364f74d9",
   "metadata": {},
   "outputs": [],
   "source": [
    "y_pred_inf1 = SVM.predict(data_inf1)\n",
    "y_pred_inf2 = SVM.predict(data_inf2)\n",
    "y_pred_inf3 = SVM.predict(data_inf3)"
   ]
  },
  {
   "cell_type": "markdown",
   "id": "ae32dcd1",
   "metadata": {},
   "source": [
    "### Prediksi Data 1"
   ]
  },
  {
   "cell_type": "code",
   "execution_count": 7,
   "id": "723166f4",
   "metadata": {},
   "outputs": [
    {
     "data": {
      "text/plain": [
       "array([0])"
      ]
     },
     "execution_count": 7,
     "metadata": {},
     "output_type": "execute_result"
    }
   ],
   "source": [
    "y_pred_inf1"
   ]
  },
  {
   "cell_type": "markdown",
   "id": "fad52893",
   "metadata": {},
   "source": [
    "### Prediksi Data 2"
   ]
  },
  {
   "cell_type": "code",
   "execution_count": 8,
   "id": "e9d98796",
   "metadata": {},
   "outputs": [
    {
     "data": {
      "text/plain": [
       "array([0])"
      ]
     },
     "execution_count": 8,
     "metadata": {},
     "output_type": "execute_result"
    }
   ],
   "source": [
    "y_pred_inf2"
   ]
  },
  {
   "cell_type": "markdown",
   "id": "a0ab1be4",
   "metadata": {},
   "source": [
    "### Prediksi Data 3"
   ]
  },
  {
   "cell_type": "code",
   "execution_count": 9,
   "id": "81759c81",
   "metadata": {},
   "outputs": [
    {
     "data": {
      "text/plain": [
       "array([1])"
      ]
     },
     "execution_count": 9,
     "metadata": {},
     "output_type": "execute_result"
    }
   ],
   "source": [
    "y_pred_inf3"
   ]
  },
  {
   "cell_type": "markdown",
   "id": "17d3a91a",
   "metadata": {},
   "source": [
    "Berdasarkan hasil prediksi menggunakan model Support Vector Machine (SVM), diperoleh bahwa data_inf1 dan data_inf2 diprediksi bernilai 0, sedangkan data_inf3 diprediksi bernilai 1. Ini menunjukkan bahwa model mengklasifikasikan data_inf1 dan data_inf2 sebagai pasien yang tidak berisiko mengalami kekambuhan, sementara data_inf3 termasuk pasien yang berpotensi mengalami kekambuhan. Prediksi ini mencerminkan kemampuan model dalam mengidentifikasi pola karakteristik yang relevan untuk mendeteksi potensi kekambuhan, yang dapat digunakan sebagai dasar pengambilan keputusan medis pasca perawatan."
   ]
  }
 ],
 "metadata": {
  "kernelspec": {
   "display_name": "base",
   "language": "python",
   "name": "python3"
  },
  "language_info": {
   "codemirror_mode": {
    "name": "ipython",
    "version": 3
   },
   "file_extension": ".py",
   "mimetype": "text/x-python",
   "name": "python",
   "nbconvert_exporter": "python",
   "pygments_lexer": "ipython3",
   "version": "3.12.9"
  }
 },
 "nbformat": 4,
 "nbformat_minor": 5
}
